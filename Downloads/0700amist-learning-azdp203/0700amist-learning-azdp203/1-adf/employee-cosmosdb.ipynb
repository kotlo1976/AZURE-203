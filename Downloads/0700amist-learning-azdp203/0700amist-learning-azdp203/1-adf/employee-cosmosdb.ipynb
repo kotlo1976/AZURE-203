{
 "cells": [
  {
   "cell_type": "code",
   "execution_count": 1,
   "id": "f464aa31-e8e6-40cc-b910-5549c617bfa3",
   "metadata": {},
   "outputs": [],
   "source": [
    "from pyspark.sql import SparkSession\n",
    "\n",
    "spark = SparkSession.builder.getOrCreate()"
   ]
  },
  {
   "cell_type": "code",
   "execution_count": 11,
   "id": "e8f13376-3dd9-41b8-8b1a-bfedfe7f63bf",
   "metadata": {},
   "outputs": [],
   "source": [
    "empDF = spark.read.parquet('data/employee-cosmosdb.parquet')"
   ]
  },
  {
   "cell_type": "code",
   "execution_count": 12,
   "id": "a156ba4b-14fe-4021-9110-38cae0b434cc",
   "metadata": {},
   "outputs": [
    {
     "name": "stdout",
     "output_type": "stream",
     "text": [
      "+----------+-------------+-----------------+----------+--------------+-------------+-------------+--------------------+--------------------+--------------------+--------------------+------------+----------+\n",
      "|EmployeeID|     emp_name|  emp_designation|emp_salary|emp_department|emp_join_date| emp_location|                  id|                _rid|               _self|               _etag|_attachments|       _ts|\n",
      "+----------+-------------+-----------------+----------+--------------+-------------+-------------+--------------------+--------------------+--------------------+--------------------+------------+----------+\n",
      "|       101|   John Smith|Software Engineer|     75000|            IT|   15-01-2022|     New York|e5d9dba9-4aef-4f5...|EE0pAOqH49sBAAAAA...|dbs/EE0pAA==/coll...|\"0c00580b-0000-01...|attachments/|1725502192|\n",
      "|       102|     Jane Doe|     Data Analyst|    300000|     Analytics|   20-08-2021|San Francisco|eeacf84f-f827-496...|EE0pAOqH49sCAAAAA...|dbs/EE0pAA==/coll...|\"0a0039de-0000-01...|attachments/|1726107373|\n",
      "|       103|   Mike Brown|  Product Manager|    100000|       Product|   10-05-2023|      Germany|b45fbf59-a2fb-40c...|EE0pAOqH49sDAAAAA...|dbs/EE0pAA==/coll...|\"0c00b80d-0000-01...|attachments/|1725502264|\n",
      "|       104|  Peter Brown|     Product Lead|    100000|       Product|   10-05-2023|      Germany|ac5d57f4-a172-490...|EE0pAOqH49sEAAAAA...|dbs/EE0pAA==/coll...|\"0c00160f-0000-01...|attachments/|1725502309|\n",
      "|       105|Charles Brown|     Product Lead|    100000|       Product|   10-05-2023|      Germany|648e1cec-61aa-4df...|EE0pAOqH49sFAAAAA...|dbs/EE0pAA==/coll...|\"0c000f13-0000-01...|attachments/|1725502467|\n",
      "|       106|Charles Brown|  Product Manager|    200000|       Product|   10-05-2023|      Germany|a73cdab2-7dba-43d...|EE0pAOqH49sHAAAAA...|dbs/EE0pAA==/coll...|\"0a0070dd-0000-01...|attachments/|1726107342|\n",
      "+----------+-------------+-----------------+----------+--------------+-------------+-------------+--------------------+--------------------+--------------------+--------------------+------------+----------+\n",
      "\n"
     ]
    }
   ],
   "source": [
    "empDF.show()"
   ]
  },
  {
   "cell_type": "code",
   "execution_count": 13,
   "id": "863a145c-b6f0-4dec-9542-5ef419aa1d35",
   "metadata": {},
   "outputs": [],
   "source": [
    "empDF.createOrReplaceTempView('empTable')"
   ]
  },
  {
   "cell_type": "code",
   "execution_count": 14,
   "id": "ab041877-2d06-40cd-8158-da83f188698a",
   "metadata": {},
   "outputs": [
    {
     "name": "stdout",
     "output_type": "stream",
     "text": [
      "+--------------+--------------+\n",
      "|avgSalarybyDep|emp_department|\n",
      "+--------------+--------------+\n",
      "|      300000.0|     Analytics|\n",
      "|       75000.0|            IT|\n",
      "|      125000.0|       Product|\n",
      "+--------------+--------------+\n",
      "\n"
     ]
    }
   ],
   "source": [
    "spark.sql('SELECT AVG(emp_salary) AS avgSalarybyDep,emp_department FROM empTable GROUP BY emp_department').show()"
   ]
  },
  {
   "cell_type": "code",
   "execution_count": null,
   "id": "58687dad-2c37-43f6-8ee9-752041e465b4",
   "metadata": {},
   "outputs": [],
   "source": []
  }
 ],
 "metadata": {
  "kernelspec": {
   "display_name": "Python 3 (ipykernel)",
   "language": "python",
   "name": "python3"
  },
  "language_info": {
   "codemirror_mode": {
    "name": "ipython",
    "version": 3
   },
   "file_extension": ".py",
   "mimetype": "text/x-python",
   "name": "python",
   "nbconvert_exporter": "python",
   "pygments_lexer": "ipython3",
   "version": "3.12.5"
  }
 },
 "nbformat": 4,
 "nbformat_minor": 5
}

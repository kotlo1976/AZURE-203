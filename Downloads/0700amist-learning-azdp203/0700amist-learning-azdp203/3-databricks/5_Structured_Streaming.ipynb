{
 "cells": [
  {
   "cell_type": "code",
   "execution_count": 0,
   "metadata": {
    "application/vnd.databricks.v1+cell": {
     "cellMetadata": {
      "byteLimit": 2048000,
      "rowLimit": 10000
     },
     "inputWidgets": {},
     "nuid": "d82cd521-69b6-4a14-811c-9d5e4464880b",
     "showTitle": false,
     "title": ""
    }
   },
   "outputs": [],
   "source": [
    "# dbfs:/FileStore/shared_uploads/kumar@vcloudmatesolutions.com/products.csv\n",
    "# dbfs:/FileStore/shared_uploads/kumar@vcloudmatesolutions.com/sales_orders.csv"
   ]
  },
  {
   "cell_type": "code",
   "execution_count": 0,
   "metadata": {
    "application/vnd.databricks.v1+cell": {
     "cellMetadata": {
      "byteLimit": 2048000,
      "rowLimit": 10000
     },
     "inputWidgets": {},
     "nuid": "1bad36c4-5c76-4331-b530-092edfc8acb1",
     "showTitle": false,
     "title": ""
    }
   },
   "outputs": [],
   "source": [
    "sales_ordersDF = spark.read.csv('dbfs:/FileStore/shared_uploads/kumar@vcloudmatesolutions.com/sales_orders.csv',header=True,inferSchema=True)\n",
    "productsDF     = spark.read.csv('dbfs:/FileStore/shared_uploads/kumar@vcloudmatesolutions.com/products.csv',header=True,inferSchema=True)"
   ]
  },
  {
   "cell_type": "code",
   "execution_count": 0,
   "metadata": {
    "application/vnd.databricks.v1+cell": {
     "cellMetadata": {
      "byteLimit": 2048000,
      "rowLimit": 10000
     },
     "inputWidgets": {},
     "nuid": "a1d33659-ecdc-4565-b761-0f5a93310323",
     "showTitle": false,
     "title": ""
    }
   },
   "outputs": [],
   "source": [
    "display(sales_ordersDF)"
   ]
  },
  {
   "cell_type": "code",
   "execution_count": 0,
   "metadata": {
    "application/vnd.databricks.v1+cell": {
     "cellMetadata": {
      "byteLimit": 2048000,
      "rowLimit": 10000
     },
     "inputWidgets": {},
     "nuid": "1b803962-541e-48e3-8526-c99163a61dc1",
     "showTitle": false,
     "title": ""
    }
   },
   "outputs": [],
   "source": [
    "display(productsDF)"
   ]
  },
  {
   "cell_type": "code",
   "execution_count": 0,
   "metadata": {
    "application/vnd.databricks.v1+cell": {
     "cellMetadata": {
      "byteLimit": 2048000,
      "rowLimit": 10000
     },
     "inputWidgets": {},
     "nuid": "dbcf3371-e8fb-4c00-b60a-970d56e80668",
     "showTitle": false,
     "title": ""
    }
   },
   "outputs": [],
   "source": [
    "display(sales_ordersDF.isStreaming)\n",
    "display(productsDF.isStreaming)"
   ]
  },
  {
   "cell_type": "code",
   "execution_count": 0,
   "metadata": {
    "application/vnd.databricks.v1+cell": {
     "cellMetadata": {
      "byteLimit": 2048000,
      "rowLimit": 10000
     },
     "inputWidgets": {},
     "nuid": "48c7cb79-6030-4e2f-add3-f69c7f70e0b2",
     "showTitle": false,
     "title": ""
    }
   },
   "outputs": [],
   "source": [
    "sales_ordersDF.write.format('parquet').save('/tmp/salesorders')\n",
    "productsDF.write.format('parquet').save('/tmp/products')"
   ]
  },
  {
   "cell_type": "code",
   "execution_count": 0,
   "metadata": {
    "application/vnd.databricks.v1+cell": {
     "cellMetadata": {
      "byteLimit": 2048000,
      "rowLimit": 10000
     },
     "inputWidgets": {},
     "nuid": "d9cfd223-6c32-4340-aff1-b78f70e91daa",
     "showTitle": false,
     "title": ""
    }
   },
   "outputs": [],
   "source": [
    "sales_orders_StreamingDF = spark.readStream.format('parquet') \\\n",
    "                                            .schema(sales_ordersDF.schema) \\\n",
    "                                            .load('/tmp/salesorders')"
   ]
  },
  {
   "cell_type": "code",
   "execution_count": 0,
   "metadata": {
    "application/vnd.databricks.v1+cell": {
     "cellMetadata": {
      "byteLimit": 2048000,
      "rowLimit": 10000
     },
     "inputWidgets": {},
     "nuid": "9ae35d52-85bd-4f06-b4fa-8e631c6be09f",
     "showTitle": false,
     "title": ""
    }
   },
   "outputs": [],
   "source": [
    "products_StreamingDF = spark.readStream.format('parquet') \\\n",
    "                                            .schema(productsDF.schema) \\\n",
    "                                            .load('/tmp/products')"
   ]
  },
  {
   "cell_type": "code",
   "execution_count": 0,
   "metadata": {
    "application/vnd.databricks.v1+cell": {
     "cellMetadata": {
      "byteLimit": 2048000,
      "rowLimit": 10000
     },
     "inputWidgets": {},
     "nuid": "a84e8066-d3ad-4403-a4fe-6d1ad07cb5f1",
     "showTitle": false,
     "title": ""
    }
   },
   "outputs": [],
   "source": [
    "display(sales_orders_StreamingDF.isStreaming)\n",
    "display(products_StreamingDF.isStreaming)"
   ]
  },
  {
   "cell_type": "code",
   "execution_count": 0,
   "metadata": {
    "application/vnd.databricks.v1+cell": {
     "cellMetadata": {
      "byteLimit": 2048000,
      "rowLimit": 10000
     },
     "inputWidgets": {},
     "nuid": "6fd32bac-deae-4fd1-bb33-b8d3eb1aa83c",
     "showTitle": false,
     "title": ""
    }
   },
   "outputs": [],
   "source": [
    "join_sales_orders_products_StreamingDF = sales_orders_StreamingDF.join(products_StreamingDF,'product_id')"
   ]
  },
  {
   "cell_type": "code",
   "execution_count": 0,
   "metadata": {
    "application/vnd.databricks.v1+cell": {
     "cellMetadata": {
      "byteLimit": 2048000,
      "rowLimit": 10000
     },
     "inputWidgets": {},
     "nuid": "7b6f8f12-4045-4d2b-9299-97556cce5bd3",
     "showTitle": false,
     "title": ""
    }
   },
   "outputs": [],
   "source": [
    "#q = df.writeStream.format(\"console\").start()\n",
    "#time.sleep(3)\n",
    "#q.stop()"
   ]
  },
  {
   "cell_type": "code",
   "execution_count": 0,
   "metadata": {
    "application/vnd.databricks.v1+cell": {
     "cellMetadata": {
      "byteLimit": 2048000,
      "rowLimit": 10000
     },
     "inputWidgets": {},
     "nuid": "98179052-f48a-4c14-9dce-685ccc4bd288",
     "showTitle": false,
     "title": ""
    }
   },
   "outputs": [],
   "source": [
    "# query = join_sales_orders_products_StreamingDF.writeStream.format('console').start()"
   ]
  },
  {
   "cell_type": "code",
   "execution_count": 0,
   "metadata": {
    "application/vnd.databricks.v1+cell": {
     "cellMetadata": {
      "byteLimit": 2048000,
      "rowLimit": 10000
     },
     "inputWidgets": {},
     "nuid": "543e81aa-b2a1-4acf-938c-07ce62d1e3fb",
     "showTitle": false,
     "title": ""
    }
   },
   "outputs": [],
   "source": [
    "source_checkpointLocation = '/tmp/_checkpoint'\n",
    "tableName = 'StreamingSalesOrderProductsTable'"
   ]
  },
  {
   "cell_type": "code",
   "execution_count": 0,
   "metadata": {
    "application/vnd.databricks.v1+cell": {
     "cellMetadata": {
      "byteLimit": 2048000,
      "rowLimit": 10000
     },
     "inputWidgets": {},
     "nuid": "9459dd20-4fe2-4c6f-82f2-4714db19e0ed",
     "showTitle": false,
     "title": ""
    }
   },
   "outputs": [],
   "source": [
    "query = join_sales_orders_products_StreamingDF.writeStream.format('parquet') \\\n",
    "                                                .option(\"checkpointLocation\",source_checkpointLocation) \\\n",
    "                                                .outputMode('append') \\\n",
    "                                                .table(tableName)\n",
    "                                                \n",
    "                                                "
   ]
  },
  {
   "cell_type": "code",
   "execution_count": 0,
   "metadata": {
    "application/vnd.databricks.v1+cell": {
     "cellMetadata": {
      "byteLimit": 2048000,
      "rowLimit": 10000
     },
     "inputWidgets": {},
     "nuid": "248d4afc-3990-41cf-b49a-97617cbe59f6",
     "showTitle": false,
     "title": ""
    }
   },
   "outputs": [],
   "source": [
    "totalSalesQuery ='SELECT SUM(total_amount) FROM streamingsalesorderproductstable'"
   ]
  },
  {
   "cell_type": "code",
   "execution_count": 0,
   "metadata": {
    "application/vnd.databricks.v1+cell": {
     "cellMetadata": {
      "byteLimit": 2048000,
      "rowLimit": 10000
     },
     "inputWidgets": {},
     "nuid": "c03b09e1-b217-42ad-b34f-2e158c38a99d",
     "showTitle": false,
     "title": ""
    }
   },
   "outputs": [],
   "source": [
    "totalSalesQueryResults = spark.sql(totalSalesQuery)"
   ]
  },
  {
   "cell_type": "code",
   "execution_count": 0,
   "metadata": {
    "application/vnd.databricks.v1+cell": {
     "cellMetadata": {
      "byteLimit": 2048000,
      "rowLimit": 10000
     },
     "inputWidgets": {},
     "nuid": "3692140c-964e-4137-b096-1f3f4cb59413",
     "showTitle": false,
     "title": ""
    }
   },
   "outputs": [],
   "source": [
    "display(totalSalesQueryResults)"
   ]
  },
  {
   "cell_type": "code",
   "execution_count": 0,
   "metadata": {
    "application/vnd.databricks.v1+cell": {
     "cellMetadata": {
      "byteLimit": 2048000,
      "rowLimit": 10000
     },
     "inputWidgets": {},
     "nuid": "da11039e-b810-405b-8d28-222e6ed52221",
     "showTitle": false,
     "title": ""
    }
   },
   "outputs": [],
   "source": [
    "# query.awaitTermination()"
   ]
  }
 ],
 "metadata": {
  "application/vnd.databricks.v1+notebook": {
   "dashboards": [],
   "environmentMetadata": null,
   "language": "python",
   "notebookMetadata": {
    "pythonIndentUnit": 4
   },
   "notebookName": "5_Structured_Streaming",
   "widgets": {}
  }
 },
 "nbformat": 4,
 "nbformat_minor": 0
}

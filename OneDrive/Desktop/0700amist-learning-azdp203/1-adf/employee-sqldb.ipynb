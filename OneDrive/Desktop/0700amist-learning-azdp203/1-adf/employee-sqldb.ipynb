{
 "cells": [
  {
   "cell_type": "code",
   "execution_count": 1,
   "id": "9142129d-7156-43c4-9932-452a69530381",
   "metadata": {},
   "outputs": [
    {
     "ename": "NameError",
     "evalue": "name 'spark' is not defined",
     "output_type": "error",
     "traceback": [
      "\u001b[1;31m---------------------------------------------------------------------------\u001b[0m",
      "\u001b[1;31mNameError\u001b[0m                                 Traceback (most recent call last)",
      "Cell \u001b[1;32mIn[1], line 1\u001b[0m\n\u001b[1;32m----> 1\u001b[0m \u001b[43mspark\u001b[49m\u001b[38;5;241m.\u001b[39mread\u001b[38;5;241m.\u001b[39mparquet(\u001b[38;5;124m'\u001b[39m\u001b[38;5;124mpart-00000-f4ca74d7-c62d-4f48-83b6-a066de51d92d-c000.snappy\u001b[39m\u001b[38;5;124m'\u001b[39m)\n",
      "\u001b[1;31mNameError\u001b[0m: name 'spark' is not defined"
     ]
    }
   ],
   "source": [
    "spark.read.parquet('data/part-00000-f4ca74d7-c62d-4f48-83b6-a066de51d92d-c000.snappy')"
   ]
  },
  {
   "cell_type": "code",
   "execution_count": 2,
   "id": "465542cb-8297-416c-8d09-7ccb0cfbed66",
   "metadata": {},
   "outputs": [],
   "source": [
    "from pyspark.sql import SparkSession\n",
    "\n",
    "spark = SparkSession.builder.getOrCreate()"
   ]
  },
  {
   "cell_type": "code",
   "execution_count": 3,
   "id": "dff55a98-2690-4c7a-a63d-8c258cb0dfca",
   "metadata": {},
   "outputs": [
    {
     "data": {
      "text/html": [
       "\n",
       "            <div>\n",
       "                <p><b>SparkSession - in-memory</b></p>\n",
       "                \n",
       "        <div>\n",
       "            <p><b>SparkContext</b></p>\n",
       "\n",
       "            <p><a href=\"http://kumaran-laptop:4040\">Spark UI</a></p>\n",
       "\n",
       "            <dl>\n",
       "              <dt>Version</dt>\n",
       "                <dd><code>v3.5.2</code></dd>\n",
       "              <dt>Master</dt>\n",
       "                <dd><code>local[*]</code></dd>\n",
       "              <dt>AppName</dt>\n",
       "                <dd><code>pyspark-shell</code></dd>\n",
       "            </dl>\n",
       "        </div>\n",
       "        \n",
       "            </div>\n",
       "        "
      ],
      "text/plain": [
       "<pyspark.sql.session.SparkSession at 0x2ad25f3e8a0>"
      ]
     },
     "execution_count": 3,
     "metadata": {},
     "output_type": "execute_result"
    }
   ],
   "source": [
    "spark"
   ]
  },
  {
   "cell_type": "code",
   "execution_count": 5,
   "id": "e63e1805-02f6-4000-b86b-8cb99378eb8b",
   "metadata": {},
   "outputs": [],
   "source": [
    "empwithdepDF = spark.read.parquet('part-00000-f4ca74d7-c62d-4f48-83b6-a066de51d92d-c000.snappy.parquet')"
   ]
  },
  {
   "cell_type": "code",
   "execution_count": 6,
   "id": "937a3c23-2c87-4957-bf7a-046902248bd3",
   "metadata": {},
   "outputs": [
    {
     "name": "stdout",
     "output_type": "stream",
     "text": [
      "+----------+---------+--------+--------+----------+------------+---------------+\n",
      "|EmployeeID|FirstName|LastName|  Salary|  HireDate|DepartmentID| DepartmentName|\n",
      "+----------+---------+--------+--------+----------+------------+---------------+\n",
      "|         4|    Emily|Williams|58000.00|2018-09-03|           1|Human Resources|\n",
      "|         2|     Jane|   Smith|55000.00|2019-05-20|           2|        Finance|\n",
      "|         1|     John|     Doe|60000.00|2020-01-15|           3|          Sales|\n",
      "|         3|   Robert| Johnson|62000.00|2021-03-10|           4|      Marketing|\n",
      "|         5|  Michael|   Brown|65000.00|2022-02-28|           5|    Engineering|\n",
      "+----------+---------+--------+--------+----------+------------+---------------+\n",
      "\n"
     ]
    }
   ],
   "source": [
    "empwithdepDF.show()"
   ]
  },
  {
   "cell_type": "code",
   "execution_count": 7,
   "id": "6f53b370-568f-4749-8e74-7853e008f51d",
   "metadata": {},
   "outputs": [],
   "source": [
    "empwithdepDF.createOrReplaceTempView('empwithdepTable')"
   ]
  },
  {
   "cell_type": "code",
   "execution_count": 8,
   "id": "72f9ba1f-af65-49ca-8f36-f45c1920c4b4",
   "metadata": {},
   "outputs": [
    {
     "name": "stdout",
     "output_type": "stream",
     "text": [
      "+--------------+---------------+\n",
      "|avgSalarybyDep| DepartmentName|\n",
      "+--------------+---------------+\n",
      "|  60000.000000|          Sales|\n",
      "|  65000.000000|    Engineering|\n",
      "|  55000.000000|        Finance|\n",
      "|  62000.000000|      Marketing|\n",
      "|  58000.000000|Human Resources|\n",
      "+--------------+---------------+\n",
      "\n"
     ]
    }
   ],
   "source": [
    "spark.sql('SELECT AVG(Salary) AS avgSalarybyDep,DepartmentName FROM empwithdepTable GROUP BY DepartmentName').show()"
   ]
  },
  {
   "cell_type": "code",
   "execution_count": null,
   "id": "1bb5ad77-8b63-400b-808c-6365baa42ec9",
   "metadata": {},
   "outputs": [],
   "source": []
  }
 ],
 "metadata": {
  "kernelspec": {
   "display_name": "Python 3 (ipykernel)",
   "language": "python",
   "name": "python3"
  },
  "language_info": {
   "codemirror_mode": {
    "name": "ipython",
    "version": 3
   },
   "file_extension": ".py",
   "mimetype": "text/x-python",
   "name": "python",
   "nbconvert_exporter": "python",
   "pygments_lexer": "ipython3",
   "version": "3.12.5"
  }
 },
 "nbformat": 4,
 "nbformat_minor": 5
}

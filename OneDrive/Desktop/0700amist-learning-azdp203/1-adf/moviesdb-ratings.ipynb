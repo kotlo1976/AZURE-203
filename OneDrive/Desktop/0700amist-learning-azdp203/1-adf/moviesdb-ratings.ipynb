{
 "cells": [
  {
   "cell_type": "code",
   "execution_count": 1,
   "id": "461f7d08-a612-4a3e-883b-9eee1200d2c1",
   "metadata": {},
   "outputs": [],
   "source": [
    "from pyspark.sql import SparkSession\n",
    "\n",
    "spark = SparkSession.builder.getOrCreate()"
   ]
  },
  {
   "cell_type": "code",
   "execution_count": 2,
   "id": "8d7d887e-4b1d-42eb-a6bd-c1909ff52185",
   "metadata": {},
   "outputs": [
    {
     "data": {
      "text/html": [
       "\n",
       "            <div>\n",
       "                <p><b>SparkSession - in-memory</b></p>\n",
       "                \n",
       "        <div>\n",
       "            <p><b>SparkContext</b></p>\n",
       "\n",
       "            <p><a href=\"http://host.docker.internal:4040\">Spark UI</a></p>\n",
       "\n",
       "            <dl>\n",
       "              <dt>Version</dt>\n",
       "                <dd><code>v3.5.2</code></dd>\n",
       "              <dt>Master</dt>\n",
       "                <dd><code>local[*]</code></dd>\n",
       "              <dt>AppName</dt>\n",
       "                <dd><code>pyspark-shell</code></dd>\n",
       "            </dl>\n",
       "        </div>\n",
       "        \n",
       "            </div>\n",
       "        "
      ],
      "text/plain": [
       "<pyspark.sql.session.SparkSession at 0x2faba322d80>"
      ]
     },
     "execution_count": 2,
     "metadata": {},
     "output_type": "execute_result"
    }
   ],
   "source": [
    "spark"
   ]
  },
  {
   "cell_type": "code",
   "execution_count": 4,
   "id": "9c31be1d-3e89-4e6e-b218-cb825e55991c",
   "metadata": {},
   "outputs": [],
   "source": [
    "moviesDF = spark.read.parquet('data/movies-rating.parquet')"
   ]
  },
  {
   "cell_type": "code",
   "execution_count": 5,
   "id": "501bef65-5f14-4079-a695-c9c28612239c",
   "metadata": {},
   "outputs": [],
   "source": [
    "moviesDF.createOrReplaceTempView('moviesTable')"
   ]
  },
  {
   "cell_type": "code",
   "execution_count": 6,
   "id": "8b7b7157-f53c-49a6-afed-838a7c08ec81",
   "metadata": {},
   "outputs": [
    {
     "name": "stdout",
     "output_type": "stream",
     "text": [
      "+------------+------+\n",
      "|count(movie)|Rating|\n",
      "+------------+------+\n",
      "|         928|     8|\n",
      "|         893|     9|\n",
      "|         905|    10|\n",
      "+------------+------+\n",
      "\n"
     ]
    }
   ],
   "source": [
    "spark.sql('SELECT COUNT(movie),Rating FROM moviesTable GROUP BY Rating').show()"
   ]
  },
  {
   "cell_type": "code",
   "execution_count": 8,
   "id": "867b916e-6670-4d50-8ff0-be521eb12883",
   "metadata": {},
   "outputs": [
    {
     "name": "stdout",
     "output_type": "stream",
     "text": [
      "2726\n"
     ]
    }
   ],
   "source": [
    "print(928+893+905)"
   ]
  },
  {
   "cell_type": "code",
   "execution_count": null,
   "id": "07461427-940f-4150-98de-b30d2d159ad9",
   "metadata": {},
   "outputs": [],
   "source": []
  }
 ],
 "metadata": {
  "kernelspec": {
   "display_name": "Python 3 (ipykernel)",
   "language": "python",
   "name": "python3"
  },
  "language_info": {
   "codemirror_mode": {
    "name": "ipython",
    "version": 3
   },
   "file_extension": ".py",
   "mimetype": "text/x-python",
   "name": "python",
   "nbconvert_exporter": "python",
   "pygments_lexer": "ipython3",
   "version": "3.12.5"
  }
 },
 "nbformat": 4,
 "nbformat_minor": 5
}

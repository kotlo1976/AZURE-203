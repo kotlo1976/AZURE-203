spark



from pyspark.sql import SparkSession

spark = SparkSession.builder.getOrCreate()


spark


empDF = spark.read.parquet('data/emp.parquet')


display(empDF = spark.read.parquet('data/emp.parquet'))




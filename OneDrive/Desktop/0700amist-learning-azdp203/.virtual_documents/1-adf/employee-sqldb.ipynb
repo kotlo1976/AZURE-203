spark.read.parquet('data/part-00000-f4ca74d7-c62d-4f48-83b6-a066de51d92d-c000.snappy')


from pyspark.sql import SparkSession

spark = SparkSession.builder.getOrCreate()


spark


empwithdepDF = spark.read.parquet('part-00000-f4ca74d7-c62d-4f48-83b6-a066de51d92d-c000.snappy.parquet')


empwithdepDF.show()


empwithdepDF.createOrReplaceTempView('empwithdepTable')


spark.sql('SELECT AVG(Salary) AS avgSalarybyDep,DepartmentName FROM empwithdepTable GROUP BY DepartmentName').show()




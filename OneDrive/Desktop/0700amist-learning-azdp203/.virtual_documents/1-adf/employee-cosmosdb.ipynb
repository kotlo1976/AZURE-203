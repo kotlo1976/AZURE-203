from pyspark.sql import SparkSession

spark = SparkSession.builder.getOrCreate()


empDF = spark.read.parquet('data/employee-cosmosdb.parquet')


empDF.show()


empDF.createOrReplaceTempView('empTable')


spark.sql('SELECT AVG(emp_salary) AS avgSalarybyDep,emp_department FROM empTable GROUP BY emp_department').show()




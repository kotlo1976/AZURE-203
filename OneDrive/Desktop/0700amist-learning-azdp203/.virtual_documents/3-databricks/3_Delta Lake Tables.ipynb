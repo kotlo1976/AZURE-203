# Use with associated Data Lake Storage with Azure Databricks -dbfs
# dbfs:/FileStore/shared_uploads/iriscloudone@outlook.com/greentaxi.parquet

# Use with External Data Lake Storage with Azure Datarbricks - abfss
# abfss://datalakefs@ssadcloudazsynapsedl2.dfs.core.windows.net/greentaxi/greentaxi.parquet



# Assign with your Data Lake Values
storage_account_name = 'ssadcloudazsynapsedl2'
container_name = 'datalakefs'
path_to_data = 'greentaxi/greentaxi.parquet'
storage_account_access_key = '<with-ur-key>>'


spark.conf.set(
    f"fs.azure.account.key.{storage_account_name}.dfs.core.windows.net",
    storage_account_access_key
)


abfss_greentaxi_file_path = f"abfss://{container_name}@{storage_account_name}.dfs.core.windows.net/{path_to_data}"


print(abfss_greentaxi_file_path)


greentaxiDF = spark.read.parquet(abfss_greentaxi_file_path)


#df.write.format("delta").mode("overwrite").save("/tmp/delta/people10m")


curatedgreentaxiDF = greentaxiDF['VendorID','lpep_pickup_datetime','lpep_dropoff_datetime','passenger_count','fare_amount']


display(curatedgreentaxiDF)


# Write to Delta Format
#df.write.format("delta").mode("overwrite").save("/tmp/delta/people10m")
curatedgreentaxiDF.write.format("delta").mode("overwrite").save("/tmp/delta/greentaxi")


# Read from Delta Fomat
newcuratedgreentaxiDF = spark.read.format("delta").load("/tmp/delta/greentaxi")


display(newcuratedgreentaxiDF)


display(curatedgreentaxiDF)


# Create Delta Table
curatedgreentaxiDF.write.format("delta").mode("overwrite").saveAsTable("curated_greentaxi")


FareAmountbyPassengercountQuery = 'SELECT SUM(fare_amount) as FareAmountbyPassengercount, passenger_count FROM curated_greentaxi GROUP BY passenger_count ORDER BY passenger_count'


FareAmountbyPassengercountResults = spark.sql(FareAmountbyPassengercountQuery)


display(FareAmountbyPassengercountResults)


%sql
CREATE DATABASE NewYorkGreenTaxiDB


%sql
USE DATABASE NewYorkGreenTaxiDB


%sql
CREATE TABLE greentaxiTable


%sql
ALTER TABLE greentaxiTable 
SET TBLPROPERTIES ('delta.feature.timestampNtz' = 'supported');


%sql
COPY INTO greentaxiTable
FROM 'abfss://datalakefs@ssadcloudazsynapsedl2.dfs.core.windows.net/greentaxi/greentaxi.parquet'
FILEFORMAT = Parquet
COPY_OPTIONS ('mergeSchema' = 'true');

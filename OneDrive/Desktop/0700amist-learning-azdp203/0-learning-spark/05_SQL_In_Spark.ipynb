{
 "cells": [
  {
   "cell_type": "markdown",
   "id": "3199be34-a7ef-4ff0-80f5-b1b6ada23c09",
   "metadata": {},
   "source": [
    "## DataFrames Operations"
   ]
  },
  {
   "cell_type": "code",
   "execution_count": 2,
   "id": "ac6a1154-0386-4a12-b0a9-816370bfb0b0",
   "metadata": {},
   "outputs": [],
   "source": [
    "from pyspark.sql import SparkSession\n",
    "\n",
    "spark = SparkSession.builder.getOrCreate()"
   ]
  },
  {
   "cell_type": "code",
   "execution_count": 7,
   "id": "aa939b9b-e7cb-4d54-883d-c6923a62db28",
   "metadata": {},
   "outputs": [],
   "source": [
    "airindexDF = spark.read.csv('data/air-index.csv',header=True)"
   ]
  },
  {
   "cell_type": "code",
   "execution_count": 8,
   "id": "920d8055-1571-4b2f-b8a2-805205c869de",
   "metadata": {},
   "outputs": [
    {
     "name": "stdout",
     "output_type": "stream",
     "text": [
      "+-------+--------------+-----------------+--------------------+-------------------+----------+----------+------------+-------------+-------------+-------------+\n",
      "|country|         state|             city|             station|        last_update|  latitude| longitude|pollutant_id|pollutant_min|pollutant_max|pollutant_avg|\n",
      "+-------+--------------+-----------------+--------------------+-------------------+----------+----------+------------+-------------+-------------+-------------+\n",
      "|  India|Andhra_Pradesh|        Anantapur|Gulzarpet, Ananta...|18-07-2024 07:00:00| 14.675886| 77.593027|         SO2|            3|            4|            3|\n",
      "|  India|Andhra_Pradesh|         Chittoor|Gangineni Cheruvu...|18-07-2024 07:00:00| 13.204880| 79.097889|        PM10|           NA|           NA|           NA|\n",
      "|  India|Andhra_Pradesh|           Kadapa|Yerramukkapalli, ...|18-07-2024 07:00:00| 14.465052| 78.824187|        PM10|           34|           52|           46|\n",
      "|  India|Andhra_Pradesh|           Kadapa|Yerramukkapalli, ...|18-07-2024 07:00:00| 14.465052| 78.824187|         NH3|            1|            1|            1|\n",
      "|  India|Andhra_Pradesh|Rajamahendravaram|Anand Kala Kshetr...|18-07-2024 07:00:00|16.9872867|81.7363176|         NH3|            1|            3|            2|\n",
      "+-------+--------------+-----------------+--------------------+-------------------+----------+----------+------------+-------------+-------------+-------------+\n",
      "only showing top 5 rows\n",
      "\n"
     ]
    }
   ],
   "source": [
    "airindexDF.show(5)"
   ]
  },
  {
   "cell_type": "code",
   "execution_count": 9,
   "id": "437d60ec-4dc7-4347-9588-6d7ad6fdac50",
   "metadata": {},
   "outputs": [
    {
     "name": "stdout",
     "output_type": "stream",
     "text": [
      "root\n",
      " |-- country: string (nullable = true)\n",
      " |-- state: string (nullable = true)\n",
      " |-- city: string (nullable = true)\n",
      " |-- station: string (nullable = true)\n",
      " |-- last_update: string (nullable = true)\n",
      " |-- latitude: string (nullable = true)\n",
      " |-- longitude: string (nullable = true)\n",
      " |-- pollutant_id: string (nullable = true)\n",
      " |-- pollutant_min: string (nullable = true)\n",
      " |-- pollutant_max: string (nullable = true)\n",
      " |-- pollutant_avg: string (nullable = true)\n",
      "\n"
     ]
    }
   ],
   "source": [
    "airindexDF.printSchema()"
   ]
  },
  {
   "cell_type": "code",
   "execution_count": null,
   "id": "45acf95d-0090-490f-9393-51f169fa75cf",
   "metadata": {},
   "outputs": [],
   "source": [
    "# Slicing the DataFrame"
   ]
  },
  {
   "cell_type": "code",
   "execution_count": 10,
   "id": "a732aec5-af9b-409f-80b5-c9284d37980d",
   "metadata": {},
   "outputs": [],
   "source": [
    "slicedairindexedDF = airindexDF['pollutant_id','state','city','station','pollutant_min','pollutant_max','pollutant_avg']"
   ]
  },
  {
   "cell_type": "code",
   "execution_count": 11,
   "id": "50a98c19-1c05-42bc-8015-e8f782ade762",
   "metadata": {},
   "outputs": [
    {
     "name": "stdout",
     "output_type": "stream",
     "text": [
      "+------------+--------------+-----------------+--------------------+-------------+-------------+-------------+\n",
      "|pollutant_id|         state|             city|             station|pollutant_min|pollutant_max|pollutant_avg|\n",
      "+------------+--------------+-----------------+--------------------+-------------+-------------+-------------+\n",
      "|         SO2|Andhra_Pradesh|        Anantapur|Gulzarpet, Ananta...|            3|            4|            3|\n",
      "|        PM10|Andhra_Pradesh|         Chittoor|Gangineni Cheruvu...|           NA|           NA|           NA|\n",
      "|        PM10|Andhra_Pradesh|           Kadapa|Yerramukkapalli, ...|           34|           52|           46|\n",
      "|         NH3|Andhra_Pradesh|           Kadapa|Yerramukkapalli, ...|            1|            1|            1|\n",
      "|         NH3|Andhra_Pradesh|Rajamahendravaram|Anand Kala Kshetr...|            1|            3|            2|\n",
      "+------------+--------------+-----------------+--------------------+-------------+-------------+-------------+\n",
      "only showing top 5 rows\n",
      "\n"
     ]
    }
   ],
   "source": [
    "slicedairindexedDF.show(5)"
   ]
  },
  {
   "cell_type": "code",
   "execution_count": 12,
   "id": "f7c493a7-4bfe-4763-8b86-8c30449cebd7",
   "metadata": {},
   "outputs": [],
   "source": [
    "selectedcolumnsairindexDF = airindexDF.select('pollutant_id','state','city','station','pollutant_avg')"
   ]
  },
  {
   "cell_type": "code",
   "execution_count": 13,
   "id": "89be094e-9488-41c5-82d8-71261618c3b9",
   "metadata": {},
   "outputs": [
    {
     "name": "stdout",
     "output_type": "stream",
     "text": [
      "+------------+-----------------+-----------------+--------------------+-------------+\n",
      "|pollutant_id|            state|             city|             station|pollutant_avg|\n",
      "+------------+-----------------+-----------------+--------------------+-------------+\n",
      "|         SO2|   Andhra_Pradesh|        Anantapur|Gulzarpet, Ananta...|            3|\n",
      "|        PM10|   Andhra_Pradesh|         Chittoor|Gangineni Cheruvu...|           NA|\n",
      "|        PM10|   Andhra_Pradesh|           Kadapa|Yerramukkapalli, ...|           46|\n",
      "|         NH3|   Andhra_Pradesh|           Kadapa|Yerramukkapalli, ...|            1|\n",
      "|         NH3|   Andhra_Pradesh|Rajamahendravaram|Anand Kala Kshetr...|            2|\n",
      "|        PM10|   Andhra_Pradesh|         Tirupati|Tirumala, Tirupat...|           22|\n",
      "|          CO|   Andhra_Pradesh|         Tirupati|Tirumala, Tirupat...|           16|\n",
      "|        PM10|   Andhra_Pradesh|       Vijayawada|HB Colony, Vijaya...|           60|\n",
      "|         SO2|   Andhra_Pradesh|       Vijayawada|HB Colony, Vijaya...|            5|\n",
      "|       PM2.5|   Andhra_Pradesh|       Vijayawada|Kanuru, Vijayawad...|           NA|\n",
      "|        PM10|   Andhra_Pradesh|       Vijayawada|Kanuru, Vijayawad...|           NA|\n",
      "|         NO2|   Andhra_Pradesh|    Visakhapatnam|GVM Corporation, ...|           54|\n",
      "|         NH3|   Andhra_Pradesh|    Visakhapatnam|GVM Corporation, ...|            4|\n",
      "|        PM10|Arunachal_Pradesh|       Naharlagun|Naharlagun, Nahar...|           34|\n",
      "|         NO2|Arunachal_Pradesh|       Naharlagun|Naharlagun, Nahar...|            3|\n",
      "|        PM10|            Assam|         Byrnihat|Central Academy f...|           NA|\n",
      "|         SO2|            Assam|         Byrnihat|Central Academy f...|           NA|\n",
      "|          CO|            Assam|         Byrnihat|Central Academy f...|           NA|\n",
      "|       PM2.5|            Assam|         Guwahati|IITG, Guwahati - ...|           13|\n",
      "|         NO2|            Assam|         Guwahati|IITG, Guwahati - ...|            1|\n",
      "+------------+-----------------+-----------------+--------------------+-------------+\n",
      "only showing top 20 rows\n",
      "\n"
     ]
    }
   ],
   "source": [
    "selectedcolumnsairindexDF.show()"
   ]
  },
  {
   "cell_type": "code",
   "execution_count": null,
   "id": "dc6acd08-61b9-46ee-98a0-a77b201eb8c7",
   "metadata": {},
   "outputs": [],
   "source": [
    "# Filtering using Filter Commands"
   ]
  },
  {
   "cell_type": "code",
   "execution_count": 14,
   "id": "4dad89d0-76c7-46bc-86d3-b527daad9be5",
   "metadata": {},
   "outputs": [],
   "source": [
    "pollutant_avg_greaterthan100DF = selectedcolumnsairindexDF.filter(selectedcolumnsairindexDF.pollutant_avg > 100)"
   ]
  },
  {
   "cell_type": "code",
   "execution_count": 15,
   "id": "bf453acf-1371-4251-a057-7c437a4f6a37",
   "metadata": {},
   "outputs": [
    {
     "name": "stdout",
     "output_type": "stream",
     "text": [
      "+------------+-----------+--------------+--------------------+-------------+\n",
      "|pollutant_id|      state|          city|             station|pollutant_avg|\n",
      "+------------+-----------+--------------+--------------------+-------------+\n",
      "|          CO|      Bihar|         Siwan|Chitragupta Nagar...|          102|\n",
      "|        PM10|      Delhi|         Delhi|Dwarka-Sector 8, ...|          108|\n",
      "|        PM10|      Delhi|         Delhi|Mundka, Delhi - DPCC|          137|\n",
      "|       PM2.5|      Delhi|         Delhi|Sonia Vihar, Delh...|          104|\n",
      "|       PM2.5|    Haryana|        Rohtak|MD University, Ro...|          180|\n",
      "|        PM10|Maharashtra|       Solapur|Solapur, Solapur ...|          111|\n",
      "|         SO2|    Manipur|        Imphal|DM College of Sci...|          101|\n",
      "|        PM10|     Odisha|      Rourkela|Fertilizer Townsh...|          107|\n",
      "|       PM2.5|  Rajasthan|       Bhiwadi|RIICO Ind. Area I...|          151|\n",
      "|        PM10|  Rajasthan|       Bhiwadi|RIICO Ind. Area I...|          121|\n",
      "|        PM10|  Rajasthan|       Bhiwadi|Vasundhara Nagar_...|          161|\n",
      "|        PM10|  Rajasthan|Sri Ganganagar|Old City, Sri Gan...|          143|\n",
      "|        PM10|      Bihar|         Patna|Muradpur, Patna -...|          111|\n",
      "|        PM10|    Haryana|     Faridabad|Sector 11, Farida...|          107|\n",
      "|          CO|    Haryana|     Fatehabad|Huda Sector, Fate...|          108|\n",
      "|       PM2.5|    Haryana|      Gurugram|Sector-51, Gurugr...|          129|\n",
      "|        PM10|    Haryana|      Gurugram|Sector-51, Gurugr...|          127|\n",
      "|        PM10|    Haryana|       Narnaul|Shastri Nagar, Na...|          123|\n",
      "|        PM10|     Punjab|      Amritsar|Golden Temple, Am...|          257|\n",
      "|        PM10|  Rajasthan|       Dholpur|Raja Ganj, Dholpu...|          274|\n",
      "+------------+-----------+--------------+--------------------+-------------+\n",
      "only showing top 20 rows\n",
      "\n"
     ]
    }
   ],
   "source": [
    "pollutant_avg_greaterthan100DF.show()"
   ]
  },
  {
   "cell_type": "code",
   "execution_count": 16,
   "id": "34a1a9f5-3789-44b7-8156-9f2dbcaffa5f",
   "metadata": {},
   "outputs": [
    {
     "data": {
      "text/plain": [
       "44"
      ]
     },
     "execution_count": 16,
     "metadata": {},
     "output_type": "execute_result"
    }
   ],
   "source": [
    "pollutant_avg_greaterthan100DF.count()"
   ]
  },
  {
   "cell_type": "code",
   "execution_count": 28,
   "id": "9b9deebf-f7cd-4b2d-9619-12f555bb9d2b",
   "metadata": {},
   "outputs": [
    {
     "name": "stdout",
     "output_type": "stream",
     "text": [
      "+--------------+-----+\n",
      "|          city|count|\n",
      "+--------------+-----+\n",
      "|     Singrauli|    1|\n",
      "|     Faridabad|    2|\n",
      "|     Vrindavan|    1|\n",
      "|       Solapur|    1|\n",
      "|         Patna|    2|\n",
      "|      Rupnagar|    1|\n",
      "|         Siwan|    1|\n",
      "|    Samastipur|    1|\n",
      "|Sri Ganganagar|    2|\n",
      "|     Ahmedabad|    1|\n",
      "|      Gurugram|    2|\n",
      "|      Rourkela|    1|\n",
      "|       Dhanbad|    1|\n",
      "|        Rohtak|    1|\n",
      "|      Amritsar|    2|\n",
      "|       Bhiwadi|    3|\n",
      "|   Chittorgarh|    1|\n",
      "| Greater Noida|    2|\n",
      "|          Agra|    1|\n",
      "|        Imphal|    1|\n",
      "+--------------+-----+\n",
      "only showing top 20 rows\n",
      "\n"
     ]
    }
   ],
   "source": [
    "airindexDF.groupBy('city').count().show()"
   ]
  },
  {
   "cell_type": "code",
   "execution_count": 29,
   "id": "867b33cb-fe70-4852-9869-56ec852e97b7",
   "metadata": {},
   "outputs": [
    {
     "name": "stdout",
     "output_type": "stream",
     "text": [
      "+--------------+-----+\n",
      "|          city|count|\n",
      "+--------------+-----+\n",
      "|     Singrauli|    1|\n",
      "|     Faridabad|    2|\n",
      "|     Vrindavan|    1|\n",
      "|       Solapur|    1|\n",
      "|         Patna|    2|\n",
      "|      Rupnagar|    1|\n",
      "|         Siwan|    1|\n",
      "|    Samastipur|    1|\n",
      "|Sri Ganganagar|    2|\n",
      "|     Ahmedabad|    1|\n",
      "|      Gurugram|    2|\n",
      "|      Rourkela|    1|\n",
      "|       Dhanbad|    1|\n",
      "|        Rohtak|    1|\n",
      "|      Amritsar|    2|\n",
      "|       Bhiwadi|    3|\n",
      "|   Chittorgarh|    1|\n",
      "| Greater Noida|    2|\n",
      "|          Agra|    1|\n",
      "|        Imphal|    1|\n",
      "+--------------+-----+\n",
      "only showing top 20 rows\n",
      "\n"
     ]
    }
   ],
   "source": [
    "airindexDF.filter(selectedcolumnsairindexDF.pollutant_avg > 100).groupBy('city').count().show()"
   ]
  },
  {
   "cell_type": "code",
   "execution_count": null,
   "id": "6667fbdb-556e-4fd4-a052-7bca07718ecc",
   "metadata": {},
   "outputs": [],
   "source": [
    "# GroupBy for Avg pollution Greater than 100"
   ]
  },
  {
   "cell_type": "code",
   "execution_count": 26,
   "id": "bf3c3aa5-cb0c-428d-a6f6-851b18c9b509",
   "metadata": {},
   "outputs": [
    {
     "name": "stdout",
     "output_type": "stream",
     "text": [
      "+--------------+-----+\n",
      "|          city|count|\n",
      "+--------------+-----+\n",
      "|     Singrauli|    1|\n",
      "|     Faridabad|    2|\n",
      "|     Vrindavan|    1|\n",
      "|       Solapur|    1|\n",
      "|         Patna|    2|\n",
      "|      Rupnagar|    1|\n",
      "|         Siwan|    1|\n",
      "|    Samastipur|    1|\n",
      "|Sri Ganganagar|    2|\n",
      "|     Ahmedabad|    1|\n",
      "|      Gurugram|    2|\n",
      "|      Rourkela|    1|\n",
      "|       Dhanbad|    1|\n",
      "|        Rohtak|    1|\n",
      "|      Amritsar|    2|\n",
      "|       Bhiwadi|    3|\n",
      "|   Chittorgarh|    1|\n",
      "| Greater Noida|    2|\n",
      "|          Agra|    1|\n",
      "|        Imphal|    1|\n",
      "+--------------+-----+\n",
      "only showing top 20 rows\n",
      "\n"
     ]
    }
   ],
   "source": [
    "pollutant_avg_greaterthan100DF.groupBy('city').count().show()"
   ]
  },
  {
   "cell_type": "code",
   "execution_count": null,
   "id": "367a33bf-a2da-499d-b37d-b0a7c4050f0b",
   "metadata": {},
   "outputs": [],
   "source": [
    "pollutant_avg_greaterthan100DF.groupBy('city').sort().show()"
   ]
  }
 ],
 "metadata": {
  "kernelspec": {
   "display_name": "Python 3 (ipykernel)",
   "language": "python",
   "name": "python3"
  },
  "language_info": {
   "codemirror_mode": {
    "name": "ipython",
    "version": 3
   },
   "file_extension": ".py",
   "mimetype": "text/x-python",
   "name": "python",
   "nbconvert_exporter": "python",
   "pygments_lexer": "ipython3",
   "version": "3.12.5"
  }
 },
 "nbformat": 4,
 "nbformat_minor": 5
}

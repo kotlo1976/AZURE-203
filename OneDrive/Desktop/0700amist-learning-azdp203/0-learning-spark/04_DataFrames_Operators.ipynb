{
 "cells": [
  {
   "cell_type": "markdown",
   "id": "3199be34-a7ef-4ff0-80f5-b1b6ada23c09",
   "metadata": {},
   "source": [
    "## SQL Programming with Apache Spark"
   ]
  },
  {
   "cell_type": "code",
   "execution_count": 1,
   "id": "ac6a1154-0386-4a12-b0a9-816370bfb0b0",
   "metadata": {},
   "outputs": [],
   "source": [
    "from pyspark.sql import SparkSession\n",
    "\n",
    "spark = SparkSession.builder.getOrCreate()"
   ]
  },
  {
   "cell_type": "code",
   "execution_count": 3,
   "id": "aa939b9b-e7cb-4d54-883d-c6923a62db28",
   "metadata": {},
   "outputs": [],
   "source": [
    "airindexDF = spark.read.csv('data/air-index.csv',header=True)"
   ]
  },
  {
   "cell_type": "code",
   "execution_count": 4,
   "id": "920d8055-1571-4b2f-b8a2-805205c869de",
   "metadata": {},
   "outputs": [
    {
     "name": "stdout",
     "output_type": "stream",
     "text": [
      "+-------+--------------+-----------------+--------------------+-------------------+----------+----------+------------+-------------+-------------+-------------+\n",
      "|country|         state|             city|             station|        last_update|  latitude| longitude|pollutant_id|pollutant_min|pollutant_max|pollutant_avg|\n",
      "+-------+--------------+-----------------+--------------------+-------------------+----------+----------+------------+-------------+-------------+-------------+\n",
      "|  India|Andhra_Pradesh|        Anantapur|Gulzarpet, Ananta...|18-07-2024 07:00:00| 14.675886| 77.593027|         SO2|            3|            4|            3|\n",
      "|  India|Andhra_Pradesh|         Chittoor|Gangineni Cheruvu...|18-07-2024 07:00:00| 13.204880| 79.097889|        PM10|           NA|           NA|           NA|\n",
      "|  India|Andhra_Pradesh|           Kadapa|Yerramukkapalli, ...|18-07-2024 07:00:00| 14.465052| 78.824187|        PM10|           34|           52|           46|\n",
      "|  India|Andhra_Pradesh|           Kadapa|Yerramukkapalli, ...|18-07-2024 07:00:00| 14.465052| 78.824187|         NH3|            1|            1|            1|\n",
      "|  India|Andhra_Pradesh|Rajamahendravaram|Anand Kala Kshetr...|18-07-2024 07:00:00|16.9872867|81.7363176|         NH3|            1|            3|            2|\n",
      "+-------+--------------+-----------------+--------------------+-------------------+----------+----------+------------+-------------+-------------+-------------+\n",
      "only showing top 5 rows\n",
      "\n"
     ]
    }
   ],
   "source": [
    "airindexDF.show(5)"
   ]
  },
  {
   "cell_type": "code",
   "execution_count": 6,
   "id": "192beccb-4367-4de5-8a77-1e50c1a76b67",
   "metadata": {},
   "outputs": [
    {
     "data": {
      "text/plain": [
       "[Database(name='default', catalog='spark_catalog', description='default database', locationUri='file:/C:/Users/HP/OneDrive/Desktop/0700amist-learning-azdp203/spark-warehouse')]"
      ]
     },
     "execution_count": 6,
     "metadata": {},
     "output_type": "execute_result"
    }
   ],
   "source": [
    "spark.catalog.listDatabases()"
   ]
  },
  {
   "cell_type": "code",
   "execution_count": 7,
   "id": "0b57d995-1679-4216-8b49-f79dfd7bfd22",
   "metadata": {},
   "outputs": [
    {
     "data": {
      "text/plain": [
       "[]"
      ]
     },
     "execution_count": 7,
     "metadata": {},
     "output_type": "execute_result"
    }
   ],
   "source": [
    "spark.catalog.listTables()"
   ]
  },
  {
   "cell_type": "code",
   "execution_count": 8,
   "id": "e06d1e15-2eb7-4f4b-9bd0-02f0ff85e76f",
   "metadata": {},
   "outputs": [],
   "source": [
    "airindexDF.createOrReplaceTempView('airindexTable')"
   ]
  },
  {
   "cell_type": "code",
   "execution_count": 9,
   "id": "26687423-315a-4f74-abad-c1e125711341",
   "metadata": {},
   "outputs": [
    {
     "data": {
      "text/plain": [
       "[Table(name='airindexTable', catalog=None, namespace=[], description=None, tableType='TEMPORARY', isTemporary=True)]"
      ]
     },
     "execution_count": 9,
     "metadata": {},
     "output_type": "execute_result"
    }
   ],
   "source": [
    "spark.catalog.listTables()"
   ]
  },
  {
   "cell_type": "code",
   "execution_count": 12,
   "id": "bf17c622-e4bd-4dd1-ab02-c3e5d371a9d6",
   "metadata": {},
   "outputs": [],
   "source": [
    "pollutionavgbycity_query = 'SELECT city,avg(pollutant_avg) FROM airindexTable GROUP BY city'"
   ]
  },
  {
   "cell_type": "code",
   "execution_count": 13,
   "id": "585c8c57-3b18-4da9-bd9a-a61f9be6396c",
   "metadata": {},
   "outputs": [],
   "source": [
    "pollutionavgbycity_query_results = spark.sql(pollutionavgbycity_query)"
   ]
  },
  {
   "cell_type": "code",
   "execution_count": 14,
   "id": "459f0738-c6de-4de2-b0ef-79a35dbddf58",
   "metadata": {},
   "outputs": [
    {
     "name": "stdout",
     "output_type": "stream",
     "text": [
      "+----------------+------------------+\n",
      "|            city|avg(pollutant_avg)|\n",
      "+----------------+------------------+\n",
      "|         Raichur|              39.4|\n",
      "|         Udaipur|30.428571428571427|\n",
      "|         Saharsa|29.333333333333332|\n",
      "|       Singrauli|60.142857142857146|\n",
      "|          Yadgir|14.714285714285714|\n",
      "|      Aurangabad|18.444444444444443|\n",
      "|       Faridabad| 33.23809523809524|\n",
      "|         Karauli|17.833333333333332|\n",
      "|     Bhubaneswar|14.285714285714286|\n",
      "|       Vrindavan|38.142857142857146|\n",
      "|Pimpri-Chinchwad|13.857142857142858|\n",
      "|  Chikkamagaluru|15.428571428571429|\n",
      "|           Ajmer|24.428571428571427|\n",
      "|          Nagaon|17.166666666666668|\n",
      "|           Akola|21.285714285714285|\n",
      "|        Amravati|11.857142857142858|\n",
      "|         Jalgaon|16.285714285714285|\n",
      "|        Agartala|              27.0|\n",
      "|         Solapur|23.529411764705884|\n",
      "|           Korba|13.384615384615385|\n",
      "+----------------+------------------+\n",
      "only showing top 20 rows\n",
      "\n"
     ]
    }
   ],
   "source": [
    "pollutionavgbycity_query_results.show()"
   ]
  },
  {
   "cell_type": "code",
   "execution_count": 15,
   "id": "46188219-4d35-4fa0-9017-b70cbf70ed1d",
   "metadata": {},
   "outputs": [
    {
     "name": "stdout",
     "output_type": "stream",
     "text": [
      "+----------------+------------------+\n",
      "|            city|avg(pollutant_avg)|\n",
      "+----------------+------------------+\n",
      "|         Raichur|              39.4|\n",
      "|         Udaipur|30.428571428571427|\n",
      "|         Saharsa|29.333333333333332|\n",
      "|       Singrauli|60.142857142857146|\n",
      "|          Yadgir|14.714285714285714|\n",
      "|      Aurangabad|18.444444444444443|\n",
      "|       Faridabad| 33.23809523809524|\n",
      "|         Karauli|17.833333333333332|\n",
      "|     Bhubaneswar|14.285714285714286|\n",
      "|       Vrindavan|38.142857142857146|\n",
      "|Pimpri-Chinchwad|13.857142857142858|\n",
      "|  Chikkamagaluru|15.428571428571429|\n",
      "|           Ajmer|24.428571428571427|\n",
      "|          Nagaon|17.166666666666668|\n",
      "|           Akola|21.285714285714285|\n",
      "|        Amravati|11.857142857142858|\n",
      "|         Jalgaon|16.285714285714285|\n",
      "|        Agartala|              27.0|\n",
      "|         Solapur|23.529411764705884|\n",
      "|           Korba|13.384615384615385|\n",
      "+----------------+------------------+\n",
      "only showing top 20 rows\n",
      "\n"
     ]
    }
   ],
   "source": [
    "spark.sql('SELECT city,avg(pollutant_avg) FROM airindexTable GROUP BY city').show()"
   ]
  },
  {
   "cell_type": "code",
   "execution_count": 16,
   "id": "182f2892-0980-493b-9c13-441da6ad1032",
   "metadata": {},
   "outputs": [],
   "source": [
    "airindexDF.createOrReplaceTempView('airindexTable')"
   ]
  },
  {
   "cell_type": "code",
   "execution_count": 17,
   "id": "05f94aef-0dac-47cc-af40-1ec0aa964dbf",
   "metadata": {},
   "outputs": [
    {
     "data": {
      "text/plain": [
       "True"
      ]
     },
     "execution_count": 17,
     "metadata": {},
     "output_type": "execute_result"
    }
   ],
   "source": [
    "spark.catalog.dropTempView('airindexTable')"
   ]
  },
  {
   "cell_type": "code",
   "execution_count": 18,
   "id": "7395a6bf-c5ad-4835-a065-631a9e0c67d1",
   "metadata": {},
   "outputs": [
    {
     "data": {
      "text/plain": [
       "[]"
      ]
     },
     "execution_count": 18,
     "metadata": {},
     "output_type": "execute_result"
    }
   ],
   "source": [
    "spark.catalog.listTables()"
   ]
  },
  {
   "cell_type": "code",
   "execution_count": null,
   "id": "28a70883-ef8d-46c2-bafd-169db8c70dd8",
   "metadata": {},
   "outputs": [],
   "source": []
  }
 ],
 "metadata": {
  "kernelspec": {
   "display_name": "Python 3 (ipykernel)",
   "language": "python",
   "name": "python3"
  },
  "language_info": {
   "codemirror_mode": {
    "name": "ipython",
    "version": 3
   },
   "file_extension": ".py",
   "mimetype": "text/x-python",
   "name": "python",
   "nbconvert_exporter": "python",
   "pygments_lexer": "ipython3",
   "version": "3.12.5"
  }
 },
 "nbformat": 4,
 "nbformat_minor": 5
}

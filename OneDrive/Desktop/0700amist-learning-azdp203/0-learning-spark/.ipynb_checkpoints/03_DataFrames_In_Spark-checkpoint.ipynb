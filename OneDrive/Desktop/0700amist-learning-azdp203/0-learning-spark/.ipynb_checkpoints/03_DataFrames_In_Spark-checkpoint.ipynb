{
 "cells": [
  {
   "cell_type": "markdown",
   "id": "3199be34-a7ef-4ff0-80f5-b1b6ada23c09",
   "metadata": {},
   "source": [
    "## DataFrames in Apache Spark"
   ]
  },
  {
   "cell_type": "code",
   "execution_count": 2,
   "id": "ac6a1154-0386-4a12-b0a9-816370bfb0b0",
   "metadata": {},
   "outputs": [],
   "source": [
    "from pyspark.sql import SparkSession\n",
    "\n",
    "spark = SparkSession.builder.getOrCreate()"
   ]
  },
  {
   "cell_type": "code",
   "execution_count": 3,
   "id": "1058a7d3-c68d-4811-8be9-a91d357b6fc7",
   "metadata": {},
   "outputs": [],
   "source": [
    "airindexDF = spark.read.csv('data/air-index.csv')"
   ]
  },
  {
   "cell_type": "code",
   "execution_count": 4,
   "id": "3427c981-39b7-4990-9037-2f60bc6b205b",
   "metadata": {},
   "outputs": [
    {
     "name": "stdout",
     "output_type": "stream",
     "text": [
      "+-------+-----------------+-----------------+--------------------+-------------------+----------+-----------+------------+-------------+-------------+-------------+\n",
      "|    _c0|              _c1|              _c2|                 _c3|                _c4|       _c5|        _c6|         _c7|          _c8|          _c9|         _c10|\n",
      "+-------+-----------------+-----------------+--------------------+-------------------+----------+-----------+------------+-------------+-------------+-------------+\n",
      "|country|            state|             city|             station|        last_update|  latitude|  longitude|pollutant_id|pollutant_min|pollutant_max|pollutant_avg|\n",
      "|  India|   Andhra_Pradesh|        Anantapur|Gulzarpet, Ananta...|18-07-2024 07:00:00| 14.675886|  77.593027|         SO2|            3|            4|            3|\n",
      "|  India|   Andhra_Pradesh|         Chittoor|Gangineni Cheruvu...|18-07-2024 07:00:00| 13.204880|  79.097889|        PM10|           NA|           NA|           NA|\n",
      "|  India|   Andhra_Pradesh|           Kadapa|Yerramukkapalli, ...|18-07-2024 07:00:00| 14.465052|  78.824187|        PM10|           34|           52|           46|\n",
      "|  India|   Andhra_Pradesh|           Kadapa|Yerramukkapalli, ...|18-07-2024 07:00:00| 14.465052|  78.824187|         NH3|            1|            1|            1|\n",
      "|  India|   Andhra_Pradesh|Rajamahendravaram|Anand Kala Kshetr...|18-07-2024 07:00:00|16.9872867| 81.7363176|         NH3|            1|            3|            2|\n",
      "|  India|   Andhra_Pradesh|         Tirupati|Tirumala, Tirupat...|18-07-2024 07:00:00|     13.67|      79.35|        PM10|           11|           35|           22|\n",
      "|  India|   Andhra_Pradesh|         Tirupati|Tirumala, Tirupat...|18-07-2024 07:00:00|     13.67|      79.35|          CO|           12|           31|           16|\n",
      "|  India|   Andhra_Pradesh|       Vijayawada|HB Colony, Vijaya...|18-07-2024 07:00:00| 16.536107|  80.594233|        PM10|           45|           92|           60|\n",
      "|  India|   Andhra_Pradesh|       Vijayawada|HB Colony, Vijaya...|18-07-2024 07:00:00| 16.536107|  80.594233|         SO2|            5|            6|            5|\n",
      "|  India|   Andhra_Pradesh|       Vijayawada|Kanuru, Vijayawad...|18-07-2024 07:00:00| 16.486692|  80.699436|       PM2.5|           NA|           NA|           NA|\n",
      "|  India|   Andhra_Pradesh|       Vijayawada|Kanuru, Vijayawad...|18-07-2024 07:00:00| 16.486692|  80.699436|        PM10|           NA|           NA|           NA|\n",
      "|  India|   Andhra_Pradesh|    Visakhapatnam|GVM Corporation, ...|18-07-2024 07:00:00|     17.72|       83.3|         NO2|           45|           70|           54|\n",
      "|  India|   Andhra_Pradesh|    Visakhapatnam|GVM Corporation, ...|18-07-2024 07:00:00|     17.72|       83.3|         NH3|            3|            6|            4|\n",
      "|  India|Arunachal_Pradesh|       Naharlagun|Naharlagun, Nahar...|18-07-2024 07:00:00| 27.103358|  93.679645|        PM10|            6|           81|           34|\n",
      "|  India|Arunachal_Pradesh|       Naharlagun|Naharlagun, Nahar...|18-07-2024 07:00:00| 27.103358|  93.679645|         NO2|            3|            3|            3|\n",
      "|  India|            Assam|         Byrnihat|Central Academy f...|18-07-2024 07:00:00| 26.071318|   91.87488|        PM10|           NA|           NA|           NA|\n",
      "|  India|            Assam|         Byrnihat|Central Academy f...|18-07-2024 07:00:00| 26.071318|   91.87488|         SO2|           NA|           NA|           NA|\n",
      "|  India|            Assam|         Byrnihat|Central Academy f...|18-07-2024 07:00:00| 26.071318|   91.87488|          CO|           NA|           NA|           NA|\n",
      "|  India|            Assam|         Guwahati|IITG, Guwahati - ...|18-07-2024 07:00:00|26.2028636|91.70046436|       PM2.5|            1|           64|           13|\n",
      "+-------+-----------------+-----------------+--------------------+-------------------+----------+-----------+------------+-------------+-------------+-------------+\n",
      "only showing top 20 rows\n",
      "\n"
     ]
    }
   ],
   "source": [
    "airindexDF.show()"
   ]
  },
  {
   "cell_type": "code",
   "execution_count": 6,
   "id": "8873646d-00ba-4e76-92a9-9601ea61c85a",
   "metadata": {},
   "outputs": [
    {
     "name": "stdout",
     "output_type": "stream",
     "text": [
      "+-------+--------------+---------+--------------------+-------------------+---------+---------+------------+-------------+-------------+-------------+\n",
      "|    _c0|           _c1|      _c2|                 _c3|                _c4|      _c5|      _c6|         _c7|          _c8|          _c9|         _c10|\n",
      "+-------+--------------+---------+--------------------+-------------------+---------+---------+------------+-------------+-------------+-------------+\n",
      "|country|         state|     city|             station|        last_update| latitude|longitude|pollutant_id|pollutant_min|pollutant_max|pollutant_avg|\n",
      "|  India|Andhra_Pradesh|Anantapur|Gulzarpet, Ananta...|18-07-2024 07:00:00|14.675886|77.593027|         SO2|            3|            4|            3|\n",
      "|  India|Andhra_Pradesh| Chittoor|Gangineni Cheruvu...|18-07-2024 07:00:00|13.204880|79.097889|        PM10|           NA|           NA|           NA|\n",
      "|  India|Andhra_Pradesh|   Kadapa|Yerramukkapalli, ...|18-07-2024 07:00:00|14.465052|78.824187|        PM10|           34|           52|           46|\n",
      "|  India|Andhra_Pradesh|   Kadapa|Yerramukkapalli, ...|18-07-2024 07:00:00|14.465052|78.824187|         NH3|            1|            1|            1|\n",
      "+-------+--------------+---------+--------------------+-------------------+---------+---------+------------+-------------+-------------+-------------+\n",
      "only showing top 5 rows\n",
      "\n"
     ]
    }
   ],
   "source": [
    "airindexDF.show(5)"
   ]
  },
  {
   "cell_type": "code",
   "execution_count": 7,
   "id": "aa939b9b-e7cb-4d54-883d-c6923a62db28",
   "metadata": {},
   "outputs": [],
   "source": [
    "airindexDF = spark.read.csv('data/air-index.csv',header=True)"
   ]
  },
  {
   "cell_type": "code",
   "execution_count": 8,
   "id": "920d8055-1571-4b2f-b8a2-805205c869de",
   "metadata": {},
   "outputs": [
    {
     "name": "stdout",
     "output_type": "stream",
     "text": [
      "+-------+--------------+-----------------+--------------------+-------------------+----------+----------+------------+-------------+-------------+-------------+\n",
      "|country|         state|             city|             station|        last_update|  latitude| longitude|pollutant_id|pollutant_min|pollutant_max|pollutant_avg|\n",
      "+-------+--------------+-----------------+--------------------+-------------------+----------+----------+------------+-------------+-------------+-------------+\n",
      "|  India|Andhra_Pradesh|        Anantapur|Gulzarpet, Ananta...|18-07-2024 07:00:00| 14.675886| 77.593027|         SO2|            3|            4|            3|\n",
      "|  India|Andhra_Pradesh|         Chittoor|Gangineni Cheruvu...|18-07-2024 07:00:00| 13.204880| 79.097889|        PM10|           NA|           NA|           NA|\n",
      "|  India|Andhra_Pradesh|           Kadapa|Yerramukkapalli, ...|18-07-2024 07:00:00| 14.465052| 78.824187|        PM10|           34|           52|           46|\n",
      "|  India|Andhra_Pradesh|           Kadapa|Yerramukkapalli, ...|18-07-2024 07:00:00| 14.465052| 78.824187|         NH3|            1|            1|            1|\n",
      "|  India|Andhra_Pradesh|Rajamahendravaram|Anand Kala Kshetr...|18-07-2024 07:00:00|16.9872867|81.7363176|         NH3|            1|            3|            2|\n",
      "+-------+--------------+-----------------+--------------------+-------------------+----------+----------+------------+-------------+-------------+-------------+\n",
      "only showing top 5 rows\n",
      "\n"
     ]
    }
   ],
   "source": [
    "airindexDF.show(5)"
   ]
  },
  {
   "cell_type": "code",
   "execution_count": null,
   "id": "45acf95d-0090-490f-9393-51f169fa75cf",
   "metadata": {},
   "outputs": [],
   "source": []
  }
 ],
 "metadata": {
  "kernelspec": {
   "display_name": "Python 3 (ipykernel)",
   "language": "python",
   "name": "python3"
  },
  "language_info": {
   "codemirror_mode": {
    "name": "ipython",
    "version": 3
   },
   "file_extension": ".py",
   "mimetype": "text/x-python",
   "name": "python",
   "nbconvert_exporter": "python",
   "pygments_lexer": "ipython3",
   "version": "3.12.5"
  }
 },
 "nbformat": 4,
 "nbformat_minor": 5
}
